{
 "cells": [
  {
   "cell_type": "markdown",
   "metadata": {},
   "source": [
    "전체 적인 아이디어는\n",
    "train.csv 에서 각각의 Y(Y00 ~ Y17)에 대하여 30일을 이용해 학습을 한 후에 3일 뒤의 Y와 test의 80일을 각각 예측한다.  \n",
    "그 후에 3일 뒤의 예측한 Y(00 ~ 17)와 X(00 ~ 39)를 이용해 Y18을 예측하는 모델을 학습 시키고 이 모델을 이용하여 test.csv의 80일의 Y18을 예측한다."
   ]
  },
  {
   "cell_type": "code",
   "execution_count": 11,
   "metadata": {},
   "outputs": [],
   "source": [
    "import pandas as pd\n",
    "import numpy as np\n",
    "\n",
    "import matplotlib.pyplot as plt\n",
    "import seaborn as sns\n",
    "\n",
    "import datetime\n",
    "import gc\n",
    "\n",
    "import xgboost as xgb\n",
    "from skopt import BayesSearchCV\n",
    "from sklearn.model_selection import StratifiedKFold, GroupKFold, TimeSeriesSplit\n",
    "\n",
    "pd.set_option('display.max_rows', 1000)\n",
    "pd.set_option('display.width', 1000)\n",
    "pd.set_option('display.max_column', 500)\n",
    "\n",
    "import warnings\n",
    "warnings.filterwarnings(action='ignore')\n",
    "\n",
    "# DataFrame size reduce \n",
    "from Reducing_DF_memory_size import reduce_mem_usage"
   ]
  },
  {
   "cell_type": "code",
   "execution_count": 12,
   "metadata": {},
   "outputs": [],
   "source": [
    "from sklearn.metrics import make_scorer\n",
    "\n",
    "def mse_AIFrenz(y_true, y_pred):\n",
    "    '''\n",
    "    y_true: 실제 값\n",
    "    y_pred: 예측 값\n",
    "    '''\n",
    "    diff = abs(y_true - y_pred)\n",
    "    \n",
    "    less_then_one = np.where(diff < 1, 0, diff)\n",
    "    \n",
    "    # multi-column일 경우에도 계산 할 수 있도록 np.average를 한번 더 씌움\n",
    "    score = np.average(np.average(less_then_one ** 2, axis = 0))\n",
    "    \n",
    "    return score\n",
    "\n",
    "custom_scorer = make_scorer(mse_AIFrenz, \n",
    "                            greater_is_better=False)\n",
    "\n",
    "#표준화 함수 생성\n",
    "def normalization(df):\n",
    "    mean = df.mean()\n",
    "    std = df.std()\n",
    "    norm = (df - mean) / (std + 1e-07)\n",
    "    return norm, mean, std\n",
    "\n",
    "# 풍향 encoding\n",
    "def wind_direction(wind):\n",
    "  if (wind > 340) or (wind <= 20):\n",
    "    return 0 # north\n",
    "  elif (20< wind) & (wind <= 70):\n",
    "    return 1 # north west\n",
    "  elif (70 < wind) & (wind <= 110):\n",
    "    return 2 # west\n",
    "  elif (110< wind) & (wind <= 160):\n",
    "    return 3 # south west\n",
    "  elif (160 < wind) & (wind <= 200):\n",
    "    return 4 # south\n",
    "  elif (200 < wind) & (wind <= 250):\n",
    "    return 5 # west east\n",
    "  elif (250 < wind) & (wind <= 290):\n",
    "    return 6 # east\n",
    "  elif (290 < wind) & (wind <= 340):\n",
    "    return 7 # north east\n"
   ]
  },
  {
   "cell_type": "code",
   "execution_count": 13,
   "metadata": {},
   "outputs": [],
   "source": [
    "# data load\n",
    "train_df = pd.read_csv('AIFrenz_Season1_dataset/train.csv')\n",
    "test_df = pd.read_csv('AIFrenz_Season1_dataset/test.csv')"
   ]
  },
  {
   "cell_type": "markdown",
   "metadata": {},
   "source": [
    "간단한 전처리"
   ]
  },
  {
   "cell_type": "code",
   "execution_count": 14,
   "metadata": {},
   "outputs": [],
   "source": [
    "# wind_direction\n",
    "for i in ['X13', 'X15', 'X17', 'X25', 'X35']:\n",
    "    train_df[i] =  train_df[i].apply(lambda x: wind_direction(x)).values.copy()\n",
    "    test_df[i] =  test_df[i].apply(lambda x: wind_direction(x)).values.copy()\n",
    "\n",
    "Y_cols = [col for col in train_df if col.startswith('Y')]\n",
    "\n",
    "# 다 0인것 삭제\n",
    "train_df.drop(['X14', 'X16', 'X19'], axis = 1, inplace = True)\n",
    "test_df.drop(['X14', 'X16', 'X19'], axis = 1, inplace = True)\n",
    "\n",
    "#Stadatd scale\n",
    "train_df.loc[:,'X00':'X39'], _, _  = normalization(train_df.loc[:,'X00':'X39'])\n",
    "test_df.loc[:,'X00':'X39'], _, _  = normalization(test_df.loc[:,'X00':'X39'])\n",
    "\n",
    "# hour 변수 생성\n",
    "minute = (train_df.index%144).astype(int)\n",
    "train_df['hour'] = np.cos((minute/6 - 15)/24 * np.pi * 2)\n",
    "\n",
    "minute_test = (test_df.index%144).astype(int)\n",
    "test_df['hour'] = np.cos((minute_test/6 - 15)/24 * np.pi * 2)"
   ]
  },
  {
   "cell_type": "code",
   "execution_count": 15,
   "metadata": {},
   "outputs": [],
   "source": [
    "# target column & data\n",
    "Y_cols = [col for col in train_df if col.startswith('Y')]\n",
    "Y_data = train_df[Y_cols].copy()\n",
    "\n",
    "# data_split\n",
    "val_df = train_df.loc[~train_df['Y18'].isna()]\n",
    "train_df = train_df.loc[train_df['Y18'].isna()]"
   ]
  },
  {
   "cell_type": "code",
   "execution_count": 16,
   "metadata": {},
   "outputs": [],
   "source": [
    "# SETTINGS - CHANGE THESE TO GET SOMETHING MEANINGFUL\n",
    "ITERATIONS = 10 # 1000\n",
    "\n",
    "bayes_cv_tuner = BayesSearchCV(\n",
    "    estimator = xgb.XGBRegressor(\n",
    "        n_jobs = -1,\n",
    "        objective = 'reg:squarederror',\n",
    "        eval_metric = 'rmse',\n",
    "        silent=1,\n",
    "        tree_method='auto' # \n",
    "    ),\n",
    "    search_spaces = {\n",
    "        'learning_rate': (0.01, 1.0, 'log-uniform'),\n",
    "        'min_child_weight': (0, 10),\n",
    "        'max_depth': (2, 50),#50\n",
    "        'max_delta_step': (0, 20),\n",
    "        'subsample': (0.01, 1.0, 'uniform'),\n",
    "        'colsample_bytree': (0.01, 1.0, 'uniform'),\n",
    "        'colsample_bylevel': (0.01, 1.0, 'uniform'),\n",
    "        'reg_lambda': (1e-9, 1000, 'log-uniform'),\n",
    "        'reg_alpha': (1e-9, 1.0, 'log-uniform'),\n",
    "        'gamma': (1e-9, 0.5, 'log-uniform'),\n",
    "        'min_child_weight': (0, 5),\n",
    "        'n_estimators': (50, 1000),\n",
    "        'scale_pos_weight': (1e-6, 500, 'log-uniform')\n",
    "    },    \n",
    "    scoring = custom_scorer,\n",
    "    cv = TimeSeriesSplit(\n",
    "        n_splits=3,\n",
    "    ),\n",
    "    n_jobs = -1,\n",
    "    n_iter = ITERATIONS,   \n",
    "    verbose = 0,\n",
    "    refit = True,\n",
    "    random_state = 42\n",
    ")\n",
    "\n",
    "def status_print(optim_result):\n",
    "    \"\"\"Status callback durring bayesian hyperparameter search\"\"\"\n",
    "    \n",
    "    # Get all the models tested so far in DataFrame format\n",
    "    all_models = pd.DataFrame(bayes_cv_tuner.cv_results_)    \n",
    "    \n",
    "    # Get current parameters and the best parameters    \n",
    "    best_params = pd.Series(bayes_cv_tuner.best_params_)\n",
    "    # CV 점수 중간에 출력 \n",
    "#     print('Model #{}\\nBest MSE: {}\\nBest params: {}\\n'.format(\n",
    "#         len(all_models),\n",
    "#         np.round(bayes_cv_tuner.best_score_, 4),\n",
    "#         bayes_cv_tuner.best_params_\n",
    "#     ))\n",
    "    # Save all model results\n",
    "    clf_name = bayes_cv_tuner.estimator.__class__.__name__\n",
    "#    all_models.to_csv(clf_name+\"_cv_results.csv\")"
   ]
  },
  {
   "cell_type": "code",
   "execution_count": 17,
   "metadata": {},
   "outputs": [
    {
     "name": "stdout",
     "output_type": "stream",
     "text": [
      "Memory usage of properties dataframe is : 1.285400390625  MB\n",
      "___MEMORY USAGE AFTER COMPLETION:___\n",
      "Memory usage is:  0.646820068359375  MB\n",
      "This is  50.32051282051282 % of the initial size\n",
      "Y00시작\n",
      "Y00끝\n",
      "Y01시작\n",
      "Y01끝\n",
      "Y02시작\n",
      "Y02끝\n",
      "Y03시작\n",
      "Y03끝\n",
      "Y04시작\n",
      "Y04끝\n",
      "Y05시작\n",
      "Y05끝\n",
      "Y06시작\n",
      "Y06끝\n",
      "Y07시작\n",
      "Y07끝\n",
      "Y08시작\n",
      "Y08끝\n",
      "Y09시작\n",
      "Y09끝\n",
      "Y10시작\n",
      "Y10끝\n",
      "Y11시작\n",
      "Y11끝\n",
      "Y12시작\n",
      "Y12끝\n",
      "Y13시작\n",
      "Y13끝\n",
      "Y14시작\n",
      "Y14끝\n",
      "Y15시작\n",
      "Y15끝\n",
      "Y16시작\n",
      "Y16끝\n",
      "Y17시작\n",
      "Y17끝\n"
     ]
    }
   ],
   "source": [
    "X = train_df.drop(Y_cols + ['id'], axis = 1) # X column 만 이용\n",
    "X, __ =  reduce_mem_usage(X) # data type 통일 \n",
    "\n",
    "val_best_score_list = [] # 30일 cv score\n",
    "test_score = [] # 다른 Y로 Y18을 예측했을땐=의 score\n",
    "best_parm_list ={} # 각각의 Y에 따른 모델의 best parameter\n",
    "pred_df = pd.Series([]) # 3일 예측치를 담을 DataFrame\n",
    "pred_test_df = pd.Series([]) # 80일치 예측치를 담을 DataFrame\n",
    "\n",
    "for i in range(len(Y_cols)-1):\n",
    "    print(Y_cols[i] + '시작')\n",
    "          \n",
    "    y = train_df[Y_cols[i]]\n",
    "    \n",
    "    result = bayes_cv_tuner.fit(X, y, callback=status_print) # tune\n",
    "    val_best_score_list.append(result.best_score_) # validation_score\n",
    "    best_parm_list[Y_cols[i]] = result.best_estimator_.get_params() # best_param\n",
    "    \n",
    "    pred = result.predict(val_df.drop(Y_cols+['id'], axis = 1)) # pred\n",
    "    pred_df = pd.concat([pred_df, pd.Series(pred)], axis = 1) # pred_append\n",
    "    test_score.append(mse_AIFrenz(val_df['Y18'], pred)) # test append\n",
    "    \n",
    "    pred_test_df = pd.concat([pred_test_df, pd.Series(result.predict(test_df.drop(['id'], axis = 1)))], axis = 1)\n",
    "    \n",
    "    print(Y_cols[i] + '끝')"
   ]
  },
  {
   "cell_type": "markdown",
   "metadata": {},
   "source": [
    "파란색 선은 튜닝하면서 기록한 CV score  \n",
    "주황색선은 각각의 다른 Y로 학습 후 Y18을 3일간 예측했을때 얻은 test score"
   ]
  },
  {
   "cell_type": "code",
   "execution_count": 18,
   "metadata": {},
   "outputs": [
    {
     "data": {
      "image/png": "[encoded data removed]",
      "text/plain": [
       "<Figure size 432x288 with 1 Axes>"
      ]
     },
     "metadata": {
      "needs_background": "light"
     },
     "output_type": "display_data"
    }
   ],
   "source": [
    "# val_best_score_list = []\n",
    "plt.plot(Y_cols[:-1],list(map(abs,val_best_score_list)), label = 'validation(self)')\n",
    "plt.plot( test_score, label = 'test(Y_18)')\n",
    "plt.legend(loc='upper left')\n",
    "plt.xticks(rotation=90)\n",
    "plt.show()"
   ]
  },
  {
   "cell_type": "markdown",
   "metadata": {},
   "source": [
    "- pred_df : train_df의 30일 기록된 Y들로 학습 후 각각의 Y의 나머지 3일을 예측한 data\n",
    "- pred_test_df : train_df의 30일록 학습한 후 각각 Y 80일을 예측했다.\n",
    "- val_df : train_df 에서 3일치 data를 따로 빼둔것  \n",
    "pred_df와 val_df 합쳐서 3일 data로 Y18 예측하도록 한 후 pred_test_df & test_df 합쳐서 80일 Y18 예측  \n",
    "**다른Y를 이용해서 Y18예측 하겠다**"
   ]
  },
  {
   "cell_type": "code",
   "execution_count": 21,
   "metadata": {},
   "outputs": [],
   "source": [
    "# 예측한 값들 있는 Data Frame의 컬럼이름_"
   ]
  },
  {
   "cell_type": "code",
   "execution_count": 34,
   "metadata": {},
   "outputs": [],
   "source": [
    "val_df.reset_index(drop=True, inplace = True)\n",
    "val_df[Y_cols[:-1]] = pred_df[Y_cols[:-1]].copy()"
   ]
  },
  {
   "cell_type": "code",
   "execution_count": 53,
   "metadata": {},
   "outputs": [
    {
     "data": {
      "text/plain": [
       "Index(['X00', 'X01', 'X02', 'X03', 'X04', 'X05', 'X06', 'X07', 'X08', 'X09', 'X10', 'X11', 'X12', 'X13', 'X15', 'X17', 'X18', 'X20', 'X21', 'X22', 'X23', 'X24', 'X25', 'X26', 'X27', 'X28', 'X29', 'X30', 'X31', 'X32', 'X33', 'X34', 'X35', 'X36', 'X37', 'X38', 'X39', 'Y00', 'Y01', 'Y02', 'Y03', 'Y04', 'Y05', 'Y06', 'Y07', 'Y08', 'Y09', 'Y10', 'Y11', 'Y12', 'Y13', 'Y14', 'Y15', 'Y16', 'Y17', 'hour'], dtype='object')"
      ]
     },
     "execution_count": 53,
     "metadata": {},
     "output_type": "execute_result"
    }
   ],
   "source": []
  },
  {
   "cell_type": "code",
   "execution_count": 40,
   "metadata": {},
   "outputs": [
    {
     "name": "stdout",
     "output_type": "stream",
     "text": [
      "Fold  1 MSE : 9.287594\n",
      "Fold  2 MSE : 3.264213\n",
      "Fold  3 MSE : 4.533494\n"
     ]
    }
   ],
   "source": [
    "# 똗같은 함수 이용해서 parameter tune \n",
    "result_XGB = bayes_cv_tuner.fit(val_df.drop(['Y18','id'], axis = 1), \n",
    "                                val_df['Y18'], callback=status_print)\n",
    "time_folds = TimeSeriesSplit(n_splits = 3)\n",
    "\n",
    "a = []\n",
    "# cv.score 확인\n",
    "for n_fold, (tr_idx, val_idx) in enumerate(time_folds.split(val_df.drop(['Y18','id'], axis = 1), val_df['Y18'])):\n",
    "    trn_x, trn_y = val_df.drop(['Y18','id'], axis = 1).iloc[tr_idx], val_df['Y18'].iloc[tr_idx]\n",
    "    val_x, val_y = val_df.drop(['Y18','id'], axis = 1).iloc[val_idx], val_df['Y18'].iloc[val_idx]\n",
    "    \n",
    "    # create linear regression object \n",
    "    model = xgb.XGBRegressor(**result_XGB.best_estimator_.get_params())\n",
    "    # train the model using the training sets \n",
    "    model.fit(trn_x, trn_y)\n",
    "    fold_pred = model.predict(val_x)\n",
    "    \n",
    "    print('Fold %2d MSE : %.6f' %\n",
    "              (n_fold + 1, mse_AIFrenz(val_y, fold_pred)))\n",
    "          \n",
    "    a.append(mse_AIFrenz(val_y, fold_pred))"
   ]
  },
  {
   "cell_type": "markdown",
   "metadata": {},
   "source": [
    "## submission"
   ]
  },
  {
   "cell_type": "code",
   "execution_count": 65,
   "metadata": {},
   "outputs": [],
   "source": [
    "feature_list = list(val_df.drop(['Y18','id'], axis = 1).columns)\n"
   ]
  },
  {
   "cell_type": "code",
   "execution_count": 68,
   "metadata": {},
   "outputs": [],
   "source": [
    "feature_list = list(val_df.drop(['Y18','id'], axis = 1).columns)\n",
    "pd.DataFrame({'id' : test_df['id'], 'Y18' : result_XGB.predict(test_df.drop('id',axis = 1)[feature_list])}).to_csv('submission.csv', index = False)"
   ]
  }
 ],
 "metadata": {
  "kernelspec": {
   "display_name": "Python 3",
   "language": "python",
   "name": "python3"
  },
  "language_info": {
   "codemirror_mode": {
    "name": "ipython",
    "version": 3
   },
   "file_extension": ".py",
   "mimetype": "text/x-python",
   "name": "python",
   "nbconvert_exporter": "python",
   "pygments_lexer": "ipython3",
   "version": "3.7.3"
  }
 },
 "nbformat": 4,
 "nbformat_minor": 4
}
